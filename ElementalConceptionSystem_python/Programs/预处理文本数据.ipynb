{
 "cells": [
  {
   "metadata": {},
   "cell_type": "markdown",
   "source": "# 预处理文本数据",
   "id": "3d553d6b2b89f09e"
  },
  {
   "metadata": {
    "ExecuteTime": {
     "end_time": "2024-05-24T14:24:58.081769Z",
     "start_time": "2024-05-24T14:24:58.077723Z"
    }
   },
   "cell_type": "code",
   "source": [
    "from pathlib import Path\n",
    "import pandas as pd\n",
    "import re\n",
    "import sqlite3\n"
   ],
   "id": "7a29faaede9a77ce",
   "outputs": [],
   "execution_count": 7
  },
  {
   "metadata": {},
   "cell_type": "markdown",
   "source": "## 配置路径",
   "id": "ce2155b194a13a3d"
  },
  {
   "metadata": {
    "ExecuteTime": {
     "end_time": "2024-05-24T13:50:58.213151Z",
     "start_time": "2024-05-24T13:50:58.209375Z"
    }
   },
   "cell_type": "code",
   "source": [
    "# 配置数据集基本路径\n",
    "folderpath_original_data_root = Path.cwd().parent.parent.parent.joinpath('EntelechyData/original')\n",
    "Path.mkdir(folderpath_original_data_root, exist_ok=True)\n",
    "\n",
    "folderpath_pretreat_data_root = Path.cwd().parent.parent.parent.joinpath('EntelechyData/pretreat')\n",
    "Path.mkdir(folderpath_pretreat_data_root, exist_ok=True)\n"
   ],
   "id": "753ad10ef5bca631",
   "outputs": [],
   "execution_count": 2
  },
  {
   "metadata": {},
   "cell_type": "markdown",
   "source": "## 预处理现代汉语词典",
   "id": "ee72f470ccdebd29"
  },
  {
   "metadata": {},
   "cell_type": "markdown",
   "source": [
    "### 导入数据\n",
    "\n",
    "导入 txt 文件格式的词典。"
   ],
   "id": "6c236e91ccdddd9c"
  },
  {
   "metadata": {
    "ExecuteTime": {
     "end_time": "2024-05-18T09:33:12.795638Z",
     "start_time": "2024-05-18T09:33:12.582269Z"
    }
   },
   "cell_type": "code",
   "source": [
    "# 导入 txt 文件格式的词典\n",
    "with open(Path(folderpath_original_data_root, '现代汉语词典/现代汉语词典.txt'), 'r', encoding='utf-8') as f:\n",
    "    现代汉语词典_txt = f.readlines()\n"
   ],
   "id": "babebe01f9efd162",
   "outputs": [],
   "execution_count": 3
  },
  {
   "metadata": {},
   "cell_type": "markdown",
   "source": [
    "### 匹配字段\n",
    "\n",
    "尝试匹配一些字段"
   ],
   "id": "4e7c033032f37306"
  },
  {
   "metadata": {
    "ExecuteTime": {
     "end_time": "2024-05-18T09:57:10.170828Z",
     "start_time": "2024-05-18T09:57:09.732920Z"
    }
   },
   "cell_type": "code",
   "source": [
    "# 匹配字段为 '   word' 的行\n",
    "reg_字段word = re.compile(r'^   word : ')\n",
    "lines_字段word = [i for i in 现代汉语词典_txt if reg_字段word.match(i)]\n",
    "lines_字段word = [reg_字段word.sub('', i).strip() for i in lines_字段word]  # 去掉 '   word : ' 字段"
   ],
   "id": "cdedfb395c5c0d65",
   "outputs": [],
   "execution_count": 12
  },
  {
   "metadata": {
    "ExecuteTime": {
     "end_time": "2024-05-18T09:57:52.531027Z",
     "start_time": "2024-05-18T09:57:52.137355Z"
    }
   },
   "cell_type": "code",
   "source": [
    "# 匹配字段为 'content' 的行\n",
    "reg_字段content = re.compile(r'^content : ')\n",
    "lines_字段content = [i for i in 现代汉语词典_txt if reg_字段content.match(i)]\n",
    "lines_字段content = [reg_字段content.sub('', i).strip() for i in lines_字段content]  # 去掉 'content : ' 字段"
   ],
   "id": "b129ee8057770bc6",
   "outputs": [],
   "execution_count": 13
  },
  {
   "metadata": {
    "ExecuteTime": {
     "end_time": "2024-05-18T09:57:53.731144Z",
     "start_time": "2024-05-18T09:57:53.441621Z"
    }
   },
   "cell_type": "code",
   "source": [
    "# 匹配字段为 '    ord : ' 的行\n",
    "reg_字段ord = re.compile(r'^    ord : ')\n",
    "lines_字段ord = [i for i in 现代汉语词典_txt if reg_字段ord.search(i)]\n",
    "lines_字段ord = [reg_字段ord.sub('', i).strip() for i in lines_字段ord]  # 去掉 '    ord : ' 字段"
   ],
   "id": "306f8a4f51878d00",
   "outputs": [],
   "execution_count": 14
  },
  {
   "metadata": {
    "ExecuteTime": {
     "end_time": "2024-05-18T09:57:54.840989Z",
     "start_time": "2024-05-18T09:57:54.530683Z"
    }
   },
   "cell_type": "code",
   "source": [
    "# 匹配字段为 '  spell : ' 的行\n",
    "reg_字段spell = re.compile(r'^  spell : ')\n",
    "lines_字段spell = [i for i in 现代汉语词典_txt if reg_字段spell.search(i)]\n",
    "lines_字段spell = [reg_字段spell.sub('', i).strip() for i in lines_字段spell]  # 去掉 '  spell : ' 字段"
   ],
   "id": "86d29d9370ae791e",
   "outputs": [],
   "execution_count": 15
  },
  {
   "metadata": {},
   "cell_type": "markdown",
   "source": "联合上述字段，生成一个 pandas DataFrame。",
   "id": "7186f64b72a05187"
  },
  {
   "metadata": {
    "ExecuteTime": {
     "end_time": "2024-05-18T09:59:45.089988Z",
     "start_time": "2024-05-18T09:59:45.002377Z"
    }
   },
   "cell_type": "code",
   "source": [
    "# 生成一个 pandas DataFrame\n",
    "df_现代汉语词典 = pd.DataFrame(columns=['word', 'content', 'ord', 'spell'])\n",
    "df_现代汉语词典['word'] = lines_字段word\n",
    "df_现代汉语词典['content'] = lines_字段content\n",
    "df_现代汉语词典['ord'] = lines_字段ord\n",
    "df_现代汉语词典['spell'] = lines_字段spell\n",
    "# 添加 'id_现代汉语词典' 字段，作为主键，排到第一列\n",
    "df_现代汉语词典['id_现代汉语词典'] = range(1, len(df_现代汉语词典) + 1)\n",
    "df_现代汉语词典 = df_现代汉语词典[['id_现代汉语词典', 'word', 'content', 'ord', 'spell']]"
   ],
   "id": "87d633bda2b3baef",
   "outputs": [],
   "execution_count": 18
  },
  {
   "metadata": {},
   "cell_type": "markdown",
   "source": "查找词。",
   "id": "aaaab25f8cc01c08"
  },
  {
   "metadata": {
    "ExecuteTime": {
     "end_time": "2024-05-18T10:04:53.785734Z",
     "start_time": "2024-05-18T10:04:53.762675Z"
    }
   },
   "cell_type": "code",
   "source": "retrive = df_现代汉语词典[df_现代汉语词典['word'] == '打']",
   "id": "cbd567aa1d9a9527",
   "outputs": [],
   "execution_count": 20
  },
  {
   "metadata": {},
   "cell_type": "markdown",
   "source": [
    "### 导出数据\n",
    "\n",
    "导出为 pkl 文件、sqlite 数据库。"
   ],
   "id": "bd8be1c82fed607b"
  },
  {
   "metadata": {
    "ExecuteTime": {
     "end_time": "2024-05-18T15:09:52.058328Z",
     "start_time": "2024-05-18T15:09:52.030608Z"
    }
   },
   "cell_type": "code",
   "source": [
    "folderpath_pretreat_现代汉语词典 = Path(folderpath_pretreat_data_root, f'现代汉语词典/现代汉语词典.pkl')\n",
    "Path.mkdir(folderpath_pretreat_现代汉语词典)\n",
    "\n",
    "# 导出为 pkl 文件\n",
    "df_现代汉语词典.to_pickle(Path(folderpath_pretreat_现代汉语词典, '现代汉语词典.pkl'))\n",
    "\n",
    "\n",
    "# 导出为 sqlite 数据库\n",
    "conn = sqlite3.connect(Path(folderpath_pretreat_现代汉语词典, '现代汉语词典.db'))"
   ],
   "id": "3dad334fbb5bac8e",
   "outputs": [
    {
     "ename": "FileExistsError",
     "evalue": "[Errno 17] File exists: '/Users/ethan/LocalFiles/ResearchFile/EntelechyData/pretreat/现代汉语词典/现代汉语词典.pkl'",
     "output_type": "error",
     "traceback": [
      "\u001B[0;31m---------------------------------------------------------------------------\u001B[0m",
      "\u001B[0;31mFileExistsError\u001B[0m                           Traceback (most recent call last)",
      "Cell \u001B[0;32mIn[32], line 2\u001B[0m\n\u001B[1;32m      1\u001B[0m folderpath_pretreat_现代汉语词典 \u001B[38;5;241m=\u001B[39m Path(folderpath_pretreat_data_root, \u001B[38;5;124mf\u001B[39m\u001B[38;5;124m'\u001B[39m\u001B[38;5;124m现代汉语词典/现代汉语词典.pkl\u001B[39m\u001B[38;5;124m'\u001B[39m)\n\u001B[0;32m----> 2\u001B[0m \u001B[43mPath\u001B[49m\u001B[38;5;241;43m.\u001B[39;49m\u001B[43mmkdir\u001B[49m\u001B[43m(\u001B[49m\u001B[43mfolderpath_pretreat_现代汉语词典\u001B[49m\u001B[43m)\u001B[49m\n\u001B[1;32m      4\u001B[0m \u001B[38;5;66;03m# 导出为 pkl 文件\u001B[39;00m\n\u001B[1;32m      5\u001B[0m df_现代汉语词典\u001B[38;5;241m.\u001B[39mto_pickle(Path(folderpath_pretreat_现代汉语词典, \u001B[38;5;124m'\u001B[39m\u001B[38;5;124m现代汉语词典.pkl\u001B[39m\u001B[38;5;124m'\u001B[39m))\n",
      "File \u001B[0;32m/Library/Frameworks/Python.framework/Versions/3.12/lib/python3.12/pathlib.py:1311\u001B[0m, in \u001B[0;36mPath.mkdir\u001B[0;34m(self, mode, parents, exist_ok)\u001B[0m\n\u001B[1;32m   1307\u001B[0m \u001B[38;5;250m\u001B[39m\u001B[38;5;124;03m\"\"\"\u001B[39;00m\n\u001B[1;32m   1308\u001B[0m \u001B[38;5;124;03mCreate a new directory at this given path.\u001B[39;00m\n\u001B[1;32m   1309\u001B[0m \u001B[38;5;124;03m\"\"\"\u001B[39;00m\n\u001B[1;32m   1310\u001B[0m \u001B[38;5;28;01mtry\u001B[39;00m:\n\u001B[0;32m-> 1311\u001B[0m     \u001B[43mos\u001B[49m\u001B[38;5;241;43m.\u001B[39;49m\u001B[43mmkdir\u001B[49m\u001B[43m(\u001B[49m\u001B[38;5;28;43mself\u001B[39;49m\u001B[43m,\u001B[49m\u001B[43m \u001B[49m\u001B[43mmode\u001B[49m\u001B[43m)\u001B[49m\n\u001B[1;32m   1312\u001B[0m \u001B[38;5;28;01mexcept\u001B[39;00m \u001B[38;5;167;01mFileNotFoundError\u001B[39;00m:\n\u001B[1;32m   1313\u001B[0m     \u001B[38;5;28;01mif\u001B[39;00m \u001B[38;5;129;01mnot\u001B[39;00m parents \u001B[38;5;129;01mor\u001B[39;00m \u001B[38;5;28mself\u001B[39m\u001B[38;5;241m.\u001B[39mparent \u001B[38;5;241m==\u001B[39m \u001B[38;5;28mself\u001B[39m:\n",
      "\u001B[0;31mFileExistsError\u001B[0m: [Errno 17] File exists: '/Users/ethan/LocalFiles/ResearchFile/EntelechyData/pretreat/现代汉语词典/现代汉语词典.pkl'"
     ]
    }
   ],
   "execution_count": 32
  },
  {
   "metadata": {},
   "cell_type": "markdown",
   "source": "## 预处理新华字典",
   "id": "3da963cf297e6212"
  },
  {
   "metadata": {},
   "cell_type": "markdown",
   "source": [
    "### 导入数据\n",
    "\n",
    "导入 txt 文件格式的词典。"
   ],
   "id": "1cfcd77fc1887819"
  },
  {
   "metadata": {
    "ExecuteTime": {
     "end_time": "2024-05-24T14:02:52.342381Z",
     "start_time": "2024-05-24T14:02:52.228420Z"
    }
   },
   "cell_type": "code",
   "source": [
    "# 导入 json 文件格式的词典\n",
    "import json\n",
    "\n",
    "新华字典_word_json = json.loads(Path(folderpath_original_data_root, '新华字典/word.json').read_text())"
   ],
   "id": "fa7c71be18329a93",
   "outputs": [],
   "execution_count": 3
  },
  {
   "metadata": {},
   "cell_type": "markdown",
   "source": [
    "### 匹配字段\n",
    "\n",
    "尝试匹配一些字段"
   ],
   "id": "3dda3ec951cca7f5"
  },
  {
   "metadata": {},
   "cell_type": "code",
   "outputs": [],
   "execution_count": null,
   "source": [
    "# 匹配字段为 '   word' 的行\n",
    "reg_字段word = re.compile(r'^   word : ')\n",
    "lines_字段word = [i for i in 现代汉语词典_txt if reg_字段word.match(i)]\n",
    "lines_字段word = [reg_字段word.sub('', i).strip() for i in lines_字段word]  # 去掉 '   word : ' 字段"
   ],
   "id": "b191d66123d956f0"
  },
  {
   "metadata": {},
   "cell_type": "markdown",
   "source": "### 转换为 DataFrame \n",
   "id": "334df2751c27202d"
  },
  {
   "metadata": {
    "ExecuteTime": {
     "end_time": "2024-05-24T14:22:05.221436Z",
     "start_time": "2024-05-24T14:21:55.530088Z"
    }
   },
   "cell_type": "code",
   "source": [
    "columns_新华字典 = 新华字典_word_json[0].keys()\n",
    "df_新华字典 = pd.DataFrame(columns=columns_新华字典)\n",
    "for i, item in enumerate(新华字典_word_json):\n",
    "    df_新华字典.loc[i] = list(item.values())"
   ],
   "id": "11b6427b25dfbaa8",
   "outputs": [],
   "execution_count": 6
  },
  {
   "metadata": {},
   "cell_type": "markdown",
   "source": "",
   "id": "6dacd3f0b29b102a"
  },
  {
   "metadata": {},
   "cell_type": "code",
   "outputs": [],
   "execution_count": null,
   "source": "",
   "id": "466595580ac47f53"
  },
  {
   "metadata": {},
   "cell_type": "markdown",
   "source": [
    "### 导出数据\n",
    "\n",
    "导出为 pkl 文件、sqlite 数据库。"
   ],
   "id": "24521c6d728f7689"
  },
  {
   "metadata": {
    "ExecuteTime": {
     "end_time": "2024-05-24T14:26:52.215547Z",
     "start_time": "2024-05-24T14:26:52.156200Z"
    }
   },
   "cell_type": "code",
   "source": [
    "folderpath_pretreat_新华字典 = Path(folderpath_pretreat_data_root, f'新华字典')\n",
    "Path.mkdir(folderpath_pretreat_新华字典)\n",
    "\n",
    "# 导出为 pkl 文件\n",
    "df_新华字典.to_pickle(Path(folderpath_pretreat_新华字典, '新华字典.pkl'))\n",
    "\n",
    "# 导出为 sqlite 数据库\n",
    "conn = sqlite3.connect(Path(folderpath_pretreat_新华字典, '新华字典.db'))"
   ],
   "id": "669df3c2fda34cc7",
   "outputs": [],
   "execution_count": 11
  }
 ],
 "metadata": {
  "kernelspec": {
   "display_name": "Python 3",
   "language": "python",
   "name": "python3"
  },
  "language_info": {
   "codemirror_mode": {
    "name": "ipython",
    "version": 2
   },
   "file_extension": ".py",
   "mimetype": "text/x-python",
   "name": "python",
   "nbconvert_exporter": "python",
   "pygments_lexer": "ipython2",
   "version": "2.7.6"
  }
 },
 "nbformat": 4,
 "nbformat_minor": 5
}
