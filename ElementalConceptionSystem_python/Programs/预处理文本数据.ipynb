{
 "cells": [
  {
   "metadata": {},
   "cell_type": "markdown",
   "source": "# 预处理文本数据",
   "id": "3d553d6b2b89f09e"
  },
  {
   "metadata": {
    "ExecuteTime": {
     "end_time": "2024-05-28T15:30:54.633082Z",
     "start_time": "2024-05-28T15:30:53.644135Z"
    }
   },
   "cell_type": "code",
   "source": [
    "from pathlib import Path\n",
    "import pandas as pd\n",
    "import re\n",
    "import sqlite3\n"
   ],
   "id": "7a29faaede9a77ce",
   "outputs": [],
   "execution_count": 2
  },
  {
   "metadata": {},
   "cell_type": "markdown",
   "source": "## 配置路径",
   "id": "ce2155b194a13a3d"
  },
  {
   "metadata": {
    "ExecuteTime": {
     "end_time": "2024-05-28T15:30:59.140298Z",
     "start_time": "2024-05-28T15:30:59.136632Z"
    }
   },
   "cell_type": "code",
   "source": [
    "# 配置数据集基本路径\n",
    "folderpath_original_data_root = Path.cwd().parent.parent.parent.joinpath('EntelechyData/original')\n",
    "Path.mkdir(folderpath_original_data_root, exist_ok=True)\n",
    "\n",
    "folderpath_pretreat_data_root = Path.cwd().parent.parent.parent.joinpath('EntelechyData/pretreat')\n",
    "Path.mkdir(folderpath_pretreat_data_root, exist_ok=True)\n"
   ],
   "id": "753ad10ef5bca631",
   "outputs": [],
   "execution_count": 4
  },
  {
   "metadata": {},
   "cell_type": "markdown",
   "source": "## 预处理现代汉语词典",
   "id": "ee72f470ccdebd29"
  },
  {
   "metadata": {},
   "cell_type": "markdown",
   "source": [
    "### 导入数据\n",
    "\n",
    "导入 txt 文件格式的词典。"
   ],
   "id": "6c236e91ccdddd9c"
  },
  {
   "metadata": {
    "ExecuteTime": {
     "end_time": "2024-05-28T15:33:07.140905Z",
     "start_time": "2024-05-28T15:33:06.915016Z"
    }
   },
   "cell_type": "code",
   "source": [
    "# 导入 txt 文件格式的词典\n",
    "with open(Path(folderpath_original_data_root, '现代汉语词典/现代汉语词典.txt'), 'r', encoding='utf-8') as f:\n",
    "    现代汉语词典_txt = f.readlines()\n"
   ],
   "id": "babebe01f9efd162",
   "outputs": [],
   "execution_count": 7
  },
  {
   "metadata": {},
   "cell_type": "markdown",
   "source": [
    "### 匹配字段\n",
    "\n",
    "尝试匹配一些字段"
   ],
   "id": "4e7c033032f37306"
  },
  {
   "metadata": {
    "ExecuteTime": {
     "end_time": "2024-05-28T15:33:08.821397Z",
     "start_time": "2024-05-28T15:33:08.521035Z"
    }
   },
   "cell_type": "code",
   "source": [
    "# 匹配字段为 '   word' 的行\n",
    "reg_字段word = re.compile(r'^   word : ')\n",
    "lines_字段word = [i for i in 现代汉语词典_txt if reg_字段word.match(i)]\n",
    "lines_字段word = [reg_字段word.sub('', i).strip() for i in lines_字段word]  # 去掉 '   word : ' 字段"
   ],
   "id": "cdedfb395c5c0d65",
   "outputs": [],
   "execution_count": 8
  },
  {
   "metadata": {
    "ExecuteTime": {
     "end_time": "2024-05-28T15:33:09.437782Z",
     "start_time": "2024-05-28T15:33:09.135242Z"
    }
   },
   "cell_type": "code",
   "source": [
    "# 匹配字段为 'content' 的行\n",
    "reg_字段content = re.compile(r'^content : ')\n",
    "lines_字段content = [i for i in 现代汉语词典_txt if reg_字段content.match(i)]\n",
    "lines_字段content = [reg_字段content.sub('', i).strip() for i in lines_字段content]  # 去掉 'content : ' 字段"
   ],
   "id": "b129ee8057770bc6",
   "outputs": [],
   "execution_count": 9
  },
  {
   "metadata": {
    "ExecuteTime": {
     "end_time": "2024-05-28T15:33:09.868719Z",
     "start_time": "2024-05-28T15:33:09.597479Z"
    }
   },
   "cell_type": "code",
   "source": [
    "# 匹配字段为 '    ord : ' 的行\n",
    "reg_字段ord = re.compile(r'^    ord : ')\n",
    "lines_字段ord = [i for i in 现代汉语词典_txt if reg_字段ord.search(i)]\n",
    "lines_字段ord = [reg_字段ord.sub('', i).strip() for i in lines_字段ord]  # 去掉 '    ord : ' 字段"
   ],
   "id": "306f8a4f51878d00",
   "outputs": [],
   "execution_count": 10
  },
  {
   "metadata": {
    "ExecuteTime": {
     "end_time": "2024-05-28T15:33:10.237358Z",
     "start_time": "2024-05-28T15:33:09.951389Z"
    }
   },
   "cell_type": "code",
   "source": [
    "# 匹配字段为 '  spell : ' 的行\n",
    "reg_字段spell = re.compile(r'^  spell : ')\n",
    "lines_字段spell = [i for i in 现代汉语词典_txt if reg_字段spell.search(i)]\n",
    "lines_字段spell = [reg_字段spell.sub('', i).strip() for i in lines_字段spell]  # 去掉 '  spell : ' 字段"
   ],
   "id": "86d29d9370ae791e",
   "outputs": [],
   "execution_count": 11
  },
  {
   "metadata": {},
   "cell_type": "markdown",
   "source": "联合上述字段，生成一个 pandas DataFrame。",
   "id": "7186f64b72a05187"
  },
  {
   "metadata": {
    "ExecuteTime": {
     "end_time": "2024-05-28T15:33:11.375330Z",
     "start_time": "2024-05-28T15:33:11.259623Z"
    }
   },
   "cell_type": "code",
   "source": [
    "# 生成一个 pandas DataFrame\n",
    "df_现代汉语词典 = pd.DataFrame(columns=['word', 'content', 'ord', 'spell'])\n",
    "df_现代汉语词典['word'] = lines_字段word\n",
    "df_现代汉语词典['content'] = lines_字段content\n",
    "df_现代汉语词典['ord'] = lines_字段ord\n",
    "df_现代汉语词典['spell'] = lines_字段spell\n",
    "# 添加 'id_现代汉语词典' 字段，作为主键，排到第一列\n",
    "df_现代汉语词典['id_现代汉语词典'] = range(1, len(df_现代汉语词典) + 1)\n",
    "df_现代汉语词典 = df_现代汉语词典[['id_现代汉语词典', 'word', 'content', 'ord', 'spell']]"
   ],
   "id": "87d633bda2b3baef",
   "outputs": [],
   "execution_count": 12
  },
  {
   "metadata": {},
   "cell_type": "markdown",
   "source": "查找词。",
   "id": "aaaab25f8cc01c08"
  },
  {
   "metadata": {
    "ExecuteTime": {
     "end_time": "2024-05-18T10:04:53.785734Z",
     "start_time": "2024-05-18T10:04:53.762675Z"
    }
   },
   "cell_type": "code",
   "source": "retrive = df_现代汉语词典[df_现代汉语词典['word'] == '打']",
   "id": "cbd567aa1d9a9527",
   "outputs": [],
   "execution_count": 20
  },
  {
   "metadata": {},
   "cell_type": "markdown",
   "source": [
    "### 导出数据\n",
    "\n",
    "导出为 pkl 文件、sqlite 数据库。"
   ],
   "id": "bd8be1c82fed607b"
  },
  {
   "metadata": {
    "ExecuteTime": {
     "end_time": "2024-05-28T15:51:05.249613Z",
     "start_time": "2024-05-28T15:51:05.245846Z"
    }
   },
   "cell_type": "code",
   "source": [
    "folderpath_pretreat_现代汉语词典 = Path(folderpath_pretreat_data_root, '现代汉语词典')\n",
    "Path.mkdir(folderpath_pretreat_现代汉语词典, exist_ok=True)\n",
    "\n",
    "if not Path(folderpath_pretreat_现代汉语词典, '现代汉语词典.pkl').exists():\n",
    "    df_现代汉语词典.to_pickle(Path(folderpath_pretreat_现代汉语词典, '现代汉语词典.pkl'))  # 导出为 pkl 文件\n",
    "\n",
    "if not Path(folderpath_pretreat_现代汉语词典, '现代汉语词典.db').exists():\n",
    "    conn = sqlite3.connect(Path(folderpath_pretreat_现代汉语词典, '现代汉语词典.db'))  # 导出为 sqlite 数据库"
   ],
   "id": "3dad334fbb5bac8e",
   "outputs": [],
   "execution_count": 23
  },
  {
   "metadata": {},
   "cell_type": "markdown",
   "source": "## 预处理新华字典",
   "id": "3da963cf297e6212"
  },
  {
   "metadata": {},
   "cell_type": "markdown",
   "source": [
    "### 导入数据\n",
    "\n",
    "导入 txt 文件格式的词典。"
   ],
   "id": "1cfcd77fc1887819"
  },
  {
   "metadata": {
    "ExecuteTime": {
     "end_time": "2024-05-28T15:51:10.475352Z",
     "start_time": "2024-05-28T15:51:10.348205Z"
    }
   },
   "cell_type": "code",
   "source": [
    "# 导入 json 文件格式的词典\n",
    "import json\n",
    "\n",
    "新华字典_word_json = json.loads(Path(folderpath_original_data_root, '新华字典/word.json').read_text())"
   ],
   "id": "fa7c71be18329a93",
   "outputs": [],
   "execution_count": 24
  },
  {
   "metadata": {},
   "cell_type": "markdown",
   "source": [
    "### 匹配字段\n",
    "\n",
    "尝试匹配一些字段"
   ],
   "id": "3dda3ec951cca7f5"
  },
  {
   "metadata": {
    "ExecuteTime": {
     "end_time": "2024-05-28T15:51:14.312124Z",
     "start_time": "2024-05-28T15:51:13.938340Z"
    }
   },
   "cell_type": "code",
   "source": [
    "# 匹配字段为 '   word' 的行\n",
    "reg_字段word = re.compile(r'^   word : ')\n",
    "lines_字段word = [i for i in 现代汉语词典_txt if reg_字段word.match(i)]\n",
    "lines_字段word = [reg_字段word.sub('', i).strip() for i in lines_字段word]  # 去掉 '   word : ' 字段"
   ],
   "id": "b191d66123d956f0",
   "outputs": [],
   "execution_count": 25
  },
  {
   "metadata": {},
   "cell_type": "markdown",
   "source": "### 转换为 DataFrame \n",
   "id": "334df2751c27202d"
  },
  {
   "metadata": {
    "ExecuteTime": {
     "end_time": "2024-05-28T15:51:25.054651Z",
     "start_time": "2024-05-28T15:51:15.457759Z"
    }
   },
   "cell_type": "code",
   "source": [
    "columns_新华字典 = 新华字典_word_json[0].keys()\n",
    "df_新华字典 = pd.DataFrame(columns=columns_新华字典)\n",
    "for i, item in enumerate(新华字典_word_json):\n",
    "    df_新华字典.loc[i] = list(item.values())"
   ],
   "id": "11b6427b25dfbaa8",
   "outputs": [],
   "execution_count": 26
  },
  {
   "metadata": {},
   "cell_type": "markdown",
   "source": "",
   "id": "6dacd3f0b29b102a"
  },
  {
   "metadata": {},
   "cell_type": "code",
   "outputs": [],
   "execution_count": null,
   "source": "",
   "id": "466595580ac47f53"
  },
  {
   "metadata": {},
   "cell_type": "markdown",
   "source": [
    "### 导出数据\n",
    "\n",
    "导出为 pkl 文件、sqlite 数据库。"
   ],
   "id": "24521c6d728f7689"
  },
  {
   "metadata": {
    "ExecuteTime": {
     "end_time": "2024-05-28T15:51:59.372441Z",
     "start_time": "2024-05-28T15:51:59.370048Z"
    }
   },
   "cell_type": "code",
   "source": [
    "folderpath_pretreat_新华字典 = Path(folderpath_pretreat_data_root, f'新华字典')\n",
    "Path.mkdir(folderpath_pretreat_新华字典, exist_ok=True)\n",
    "\n",
    "if not Path(folderpath_pretreat_新华字典, '新华字典.pkl').exists():\n",
    "    df_新华字典.to_pickle(Path(folderpath_pretreat_新华字典, '新华字典.pkl'))  # 导出为 pkl 文件\n",
    "\n",
    "if not Path(folderpath_pretreat_新华字典, '新华字典.db').exists():\n",
    "    conn = sqlite3.connect(Path(folderpath_pretreat_新华字典, '新华字典.db'))  # 导出为 sqlite 数据库"
   ],
   "id": "669df3c2fda34cc7",
   "outputs": [],
   "execution_count": 27
  },
  {
   "metadata": {},
   "cell_type": "markdown",
   "source": "## 导入数据",
   "id": "1c94a95c44c7c322"
  },
  {
   "metadata": {
    "ExecuteTime": {
     "end_time": "2024-05-28T15:52:18.903894Z",
     "start_time": "2024-05-28T15:52:18.900948Z"
    }
   },
   "cell_type": "code",
   "source": [
    "folderpath_pretreat_现代汉语词典 = Path(folderpath_pretreat_data_root, f'现代汉语词典')\n",
    "folderpath_pretreat_新华字典 = Path(folderpath_pretreat_data_root, f'新华字典')\n",
    "# 导入 sqlite 数据库\n",
    "conn_现代汉语词典 = sqlite3.connect(Path(folderpath_pretreat_现代汉语词典, '现代汉语词典.db'))\n",
    "conn_新华字典 = sqlite3.connect(Path(folderpath_pretreat_新华字典, '新华字典.db'))"
   ],
   "id": "47f90149a05401c",
   "outputs": [],
   "execution_count": 28
  },
  {
   "metadata": {},
   "cell_type": "code",
   "outputs": [],
   "execution_count": null,
   "source": "",
   "id": "543a99c0ea60141c"
  }
 ],
 "metadata": {
  "kernelspec": {
   "display_name": "Python 3",
   "language": "python",
   "name": "python3"
  },
  "language_info": {
   "codemirror_mode": {
    "name": "ipython",
    "version": 2
   },
   "file_extension": ".py",
   "mimetype": "text/x-python",
   "name": "python",
   "nbconvert_exporter": "python",
   "pygments_lexer": "ipython2",
   "version": "2.7.6"
  }
 },
 "nbformat": 4,
 "nbformat_minor": 5
}
