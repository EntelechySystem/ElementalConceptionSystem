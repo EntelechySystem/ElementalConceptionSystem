{
 "cells": [
  {
   "cell_type": "markdown",
   "id": "3d553d6b2b89f09e",
   "metadata": {},
   "source": [
    "# 预处理文本数据"
   ]
  },
  {
   "cell_type": "code",
   "id": "7a29faaede9a77ce",
   "metadata": {
    "ExecuteTime": {
     "end_time": "2024-10-23T08:07:24.022813Z",
     "start_time": "2024-10-23T08:07:23.640450Z"
    }
   },
   "source": [
    "from pathlib import Path\n",
    "import pandas as pd\n",
    "import re\n",
    "import sqlite3\n"
   ],
   "outputs": [],
   "execution_count": 1
  },
  {
   "cell_type": "markdown",
   "id": "ce2155b194a13a3d",
   "metadata": {},
   "source": [
    "## 配置路径"
   ]
  },
  {
   "cell_type": "code",
   "id": "753ad10ef5bca631",
   "metadata": {
    "ExecuteTime": {
     "end_time": "2024-10-23T08:07:24.987115Z",
     "start_time": "2024-10-23T08:07:24.981116Z"
    }
   },
   "source": [
    "# 配置数据集基本路径\n",
    "folderpath_original_data_root = Path.cwd().parent.parent.parent.joinpath('EntelechyData/original')\n",
    "Path.mkdir(folderpath_original_data_root, exist_ok=True)\n",
    "\n",
    "folderpath_pretreat_data_root = Path.cwd().parent.parent.parent.joinpath('EntelechyData/pretreatment')\n",
    "Path.mkdir(folderpath_pretreat_data_root, exist_ok=True)\n",
    "\n",
    "# 配置数据集路径\n",
    "folderpath_pretreat_现代汉语词典 = Path(folderpath_pretreat_data_root, f'现代汉语词典')\n",
    "folderpath_pretreat_新华字典 = Path(folderpath_pretreat_data_root, f'新华字典')\n"
   ],
   "outputs": [],
   "execution_count": 2
  },
  {
   "cell_type": "markdown",
   "id": "128d268beab95ceb",
   "metadata": {},
   "source": [
    "## 导入预处理的词库数据"
   ]
  },
  {
   "cell_type": "markdown",
   "id": "796d17d3",
   "metadata": {},
   "source": "### 导入 sqlite 数据库"
  },
  {
   "cell_type": "code",
   "execution_count": 3,
   "id": "2d4463d68c34eef9",
   "metadata": {
    "ExecuteTime": {
     "end_time": "2024-10-22T09:59:20.298783Z",
     "start_time": "2024-10-22T09:59:20.293674Z"
    }
   },
   "outputs": [],
   "source": [
    "# 导入 sqlite 数据库\n",
    "conn_现代汉语词典 = sqlite3.connect(Path(folderpath_pretreat_现代汉语词典, '现代汉语词典.db'))\n",
    "conn_新华字典 = sqlite3.connect(Path(folderpath_pretreat_新华字典, '新华字典.db'))\n"
   ]
  },
  {
   "cell_type": "markdown",
   "id": "10c6f5cf",
   "metadata": {},
   "source": "### 导入 pandas 数据"
  },
  {
   "cell_type": "code",
   "id": "5548793d",
   "metadata": {
    "ExecuteTime": {
     "end_time": "2024-10-23T08:18:34.516429Z",
     "start_time": "2024-10-23T08:18:34.242214Z"
    }
   },
   "source": [
    "# 读取新华字典 pandas 数据库内容\n",
    "df_新华字典 = pd.read_pickle(Path(folderpath_pretreat_新华字典, '新华字典.pkl'))\n",
    "# 读取现代汉语词典 pandas 数据库内容\n",
    "df_现代汉语词典 = pd.read_pickle(Path(folderpath_pretreat_现代汉语词典, '现代汉语词典.pkl'))"
   ],
   "outputs": [],
   "execution_count": 5
  },
  {
   "metadata": {},
   "cell_type": "markdown",
   "source": "## 导入到自定义的初始的基础概念库 ",
   "id": "d6e7f2e16752598f"
  },
  {
   "metadata": {},
   "cell_type": "markdown",
   "source": "### 初始化自定义的初始的基础概念库",
   "id": "ad0976fbddd8f016"
  },
  {
   "metadata": {},
   "cell_type": "code",
   "outputs": [],
   "execution_count": null,
   "source": [
    "# 初始化自定义的初始的基础概念库\n",
    "df_基础概念中文汉字库 = pd.DataFrame(columns=['uid','id_概念','name_概念', '内容_010','是否常用字','备注'])\n",
    "df_基础概念现代汉语词库 = pd.DataFrame(columns=['uid','id_概念','name_概念', '是否常用词','备注'])"
   ],
   "id": "2211f2f6bbd504a9"
  },
  {
   "metadata": {},
   "cell_type": "code",
   "outputs": [],
   "execution_count": null,
   "source": [
    "# 导入新华字典 pandas 数据库内容到自定义的初始的基础概念库\n",
    "df_基础概念中文汉字库['内容_010'] = df_新华字典['word']\n",
    "\n"
   ],
   "id": "1079650226141d8c"
  }
 ],
 "metadata": {
  "kernelspec": {
   "display_name": "Python 3",
   "language": "python",
   "name": "python3"
  },
  "language_info": {
   "codemirror_mode": {
    "name": "ipython",
    "version": 2
   },
   "file_extension": ".py",
   "mimetype": "text/x-python",
   "name": "python",
   "nbconvert_exporter": "python",
   "pygments_lexer": "ipython2",
   "version": "2.7.6"
  }
 },
 "nbformat": 4,
 "nbformat_minor": 5
}
